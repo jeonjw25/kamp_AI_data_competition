{
 "cells": [
  {
   "cell_type": "code",
   "execution_count": 98,
   "metadata": {},
   "outputs": [],
   "source": [
    "import numpy as np\n",
    "import pandas as pd\n",
    "from tensorflow.keras.layers import Dense, Dropout\n",
    "from tensorflow.keras.models import Sequential\n",
    "from tensorflow.keras.optimizers import Adam\n",
    "from tensorflow.keras.callbacks import EarlyStopping\n",
    "import matplotlib.pyplot as plt\n",
    "import seaborn as sns\n",
    "from sklearn.preprocessing import MinMaxScaler, StandardScaler\n",
    "from sklearn.metrics import confusion_matrix\n"
   ]
  },
  {
   "cell_type": "code",
   "execution_count": 99,
   "metadata": {},
   "outputs": [],
   "source": [
    "# 데이터 불러오기 및 중복제거\n",
    "labeled_data  = pd.read_csv('labeled.csv')\n",
    "unlabeled_data = pd.read_csv('unlabeled.csv')\n",
    "labeled_data['PassOrFail'] = labeled_data['PassOrFail'].replace('Y', 0).replace('N', 1)\n",
    "labeled_data.drop_duplicates(inplace=True)\n"
   ]
  },
  {
   "cell_type": "code",
   "execution_count": 100,
   "metadata": {},
   "outputs": [
    {
     "data": {
      "text/plain": [
       "Index(['Unnamed: 0', '_id', 'TimeStamp', 'PART_FACT_PLAN_DATE',\n",
       "       'PART_FACT_SERIAL', 'PART_NO', 'PART_NAME', 'EQUIP_CD', 'EQUIP_NAME',\n",
       "       'ERR_FACT_QTY', 'Injection_Time', 'Filling_Time', 'Plasticizing_Time',\n",
       "       'Cycle_Time', 'Clamp_Close_Time', 'Cushion_Position',\n",
       "       'Switch_Over_Position', 'Plasticizing_Position', 'Clamp_Open_Position',\n",
       "       'Max_Injection_Speed', 'Max_Screw_RPM', 'Average_Screw_RPM',\n",
       "       'Max_Injection_Pressure', 'Max_Switch_Over_Pressure',\n",
       "       'Max_Back_Pressure', 'Average_Back_Pressure', 'Barrel_Temperature_1',\n",
       "       'Barrel_Temperature_2', 'Barrel_Temperature_3', 'Barrel_Temperature_4',\n",
       "       'Barrel_Temperature_5', 'Barrel_Temperature_6', 'Barrel_Temperature_7',\n",
       "       'Hopper_Temperature', 'Mold_Temperature_1', 'Mold_Temperature_2',\n",
       "       'Mold_Temperature_3', 'Mold_Temperature_4', 'Mold_Temperature_5',\n",
       "       'Mold_Temperature_6', 'Mold_Temperature_7', 'Mold_Temperature_8',\n",
       "       'Mold_Temperature_9', 'Mold_Temperature_10', 'Mold_Temperature_11',\n",
       "       'Mold_Temperature_12'],\n",
       "      dtype='object')"
      ]
     },
     "execution_count": 100,
     "metadata": {},
     "output_type": "execute_result"
    }
   ],
   "source": [
    "# unlabeled data features 확인\n",
    "unlabeled_data.columns\n"
   ]
  },
  {
   "cell_type": "code",
   "execution_count": 101,
   "metadata": {},
   "outputs": [
    {
     "data": {
      "text/plain": [
       "Index(['_id', 'TimeStamp', 'PART_FACT_PLAN_DATE', 'PART_FACT_SERIAL',\n",
       "       'PART_NAME', 'EQUIP_CD', 'EQUIP_NAME', 'PassOrFail', 'Reason',\n",
       "       'Injection_Time', 'Filling_Time', 'Plasticizing_Time', 'Cycle_Time',\n",
       "       'Clamp_Close_Time', 'Cushion_Position', 'Switch_Over_Position',\n",
       "       'Plasticizing_Position', 'Clamp_Open_Position', 'Max_Injection_Speed',\n",
       "       'Max_Screw_RPM', 'Average_Screw_RPM', 'Max_Injection_Pressure',\n",
       "       'Max_Switch_Over_Pressure', 'Max_Back_Pressure',\n",
       "       'Average_Back_Pressure', 'Barrel_Temperature_1', 'Barrel_Temperature_2',\n",
       "       'Barrel_Temperature_3', 'Barrel_Temperature_4', 'Barrel_Temperature_5',\n",
       "       'Barrel_Temperature_6', 'Barrel_Temperature_7', 'Hopper_Temperature',\n",
       "       'Mold_Temperature_1', 'Mold_Temperature_2', 'Mold_Temperature_3',\n",
       "       'Mold_Temperature_4', 'Mold_Temperature_5', 'Mold_Temperature_6',\n",
       "       'Mold_Temperature_7', 'Mold_Temperature_8', 'Mold_Temperature_9',\n",
       "       'Mold_Temperature_10', 'Mold_Temperature_11', 'Mold_Temperature_12'],\n",
       "      dtype='object')"
      ]
     },
     "execution_count": 101,
     "metadata": {},
     "output_type": "execute_result"
    }
   ],
   "source": [
    "# labeled data features 확인\n",
    "labeled_data.columns\n"
   ]
  },
  {
   "cell_type": "code",
   "execution_count": 102,
   "metadata": {},
   "outputs": [],
   "source": [
    "def make_input(data, machine_name, product_name):\n",
    "    machine_ = data['EQUIP_NAME'] == machine_name\n",
    "    product_ = data['PART_NAME']  == product_name\n",
    "    data = data[machine_ & product_]\n",
    "    data.drop(['_id', 'TimeStamp', 'PART_FACT_PLAN_DATE', 'PART_FACT_SERIAL', 'PART_NAME', 'EQUIP_CD', 'EQUIP_NAME', 'Mold_Temperature_1','Mold_Temperature_2','Mold_Temperature_5','Mold_Temperature_6','Mold_Temperature_7','Mold_Temperature_8','Mold_Temperature_9','Mold_Temperature_10','Mold_Temperature_11','Mold_Temperature_12'], axis=1, inplace=True)\n",
    "    return data"
   ]
  },
  {
   "cell_type": "code",
   "execution_count": 103,
   "metadata": {},
   "outputs": [
    {
     "name": "stderr",
     "output_type": "stream",
     "text": [
      "C:\\Users\\jeonj\\anaconda3\\lib\\site-packages\\pandas\\core\\frame.py:4906: SettingWithCopyWarning: \n",
      "A value is trying to be set on a copy of a slice from a DataFrame\n",
      "\n",
      "See the caveats in the documentation: https://pandas.pydata.org/pandas-docs/stable/user_guide/indexing.html#returning-a-view-versus-a-copy\n",
      "  return super().drop(\n"
     ]
    }
   ],
   "source": [
    "# unlabeled에서 우진2호기만 뽑아내고 cn7, rg3, cn7+rg3 데이터구분\n",
    "machine_name = '650톤-우진2호기'\n",
    "product_name = [\"CN7 W/S SIDE MLD'G LH\", \"CN7 W/S SIDE MLD'G RH\", \"RG3 MOLD'G W/SHLD, RH\", \"RG3 MOLD'G W/SHLD, LH\"]\n",
    "cn7lh = make_input(unlabeled_data, machine_name, product_name[0])\n",
    "cn7rh = make_input(unlabeled_data, machine_name, product_name[1])\n",
    "\n",
    "rg3lh = make_input(unlabeled_data, machine_name, product_name[2])\n",
    "rg3rh = make_input(unlabeled_data, machine_name, product_name[3])\n",
    "\n",
    "cn7_train = pd.concat([cn7lh, cn7rh], ignore_index=True) # unlabeled에서 cn7만 추출\n",
    "rg3_train = pd.concat([rg3lh, rg3rh], ignore_index=True) # unlabeled에서 rg3만 추출\n",
    "cn_rg_train = pd.concat([cn7lh, cn7rh, rg3lh, rg3rh], ignore_index=True) # unlabeled에 cn7 + rg3\n",
    "\n",
    "# 각각 필요없는 col 제거\n",
    "cn7_train.drop(['Unnamed: 0', 'Switch_Over_Position', 'Barrel_Temperature_7', 'PART_NO', 'ERR_FACT_QTY'], axis=1, inplace=True)\n",
    "rg3_train.drop(['Unnamed: 0', 'Plasticizing_Position', 'PART_NO', 'ERR_FACT_QTY'], axis=1, inplace=True)\n",
    "cn_rg_train.drop(['Unnamed: 0', 'PART_NO', 'ERR_FACT_QTY'], axis=1, inplace=True)\n",
    "\n"
   ]
  },
  {
   "cell_type": "code",
   "execution_count": 104,
   "metadata": {},
   "outputs": [],
   "source": [
    "for column in cn_rg_train.columns:\n",
    "  if cn_rg_train['Injection_Time'][cn_rg_train[column]==0].count() == len(cn_rg_train):\n",
    "    print(column)   "
   ]
  },
  {
   "cell_type": "code",
   "execution_count": 105,
   "metadata": {},
   "outputs": [
    {
     "name": "stdout",
     "output_type": "stream",
     "text": [
      "CN7+RG3:  (71180, 26)\n",
      "CN7:  (35239, 24)\n",
      "RG3:  (35941, 25)\n"
     ]
    }
   ],
   "source": [
    "# 트레이닝셋 shape 확인\n",
    "print(\"CN7+RG3: \", cn_rg_train.shape)\n",
    "print(\"CN7: \", cn7_train.shape)\n",
    "print(\"RG3: \", rg3_train.shape)"
   ]
  },
  {
   "cell_type": "code",
   "execution_count": 106,
   "metadata": {},
   "outputs": [],
   "source": [
    "# 테스트 데이터셋 구성\n",
    "# labeled 에서 cn7, rg3, cn7+rg3 데이터 구분\n",
    "product_name = [\"CN7 W/S SIDE MLD'G LH\", \"CN7 W/S SIDE MLD'G RH\", \"RG3 MOLD'G W/SHLD, RH\", \"RG3 MOLD'G W/SHLD, LH\"]\n",
    "cn7lh = make_input(labeled_data, machine_name, product_name[0])\n",
    "cn7rh = make_input(labeled_data, machine_name, product_name[1])\n",
    "\n",
    "rg3lh = make_input(labeled_data, machine_name, product_name[2])\n",
    "rg3rh = make_input(labeled_data, machine_name, product_name[3])\n",
    "\n",
    "cn7_test = pd.concat([cn7lh, cn7rh], ignore_index=True) # cn7\n",
    "rg3_test = pd.concat([rg3lh, rg3rh], ignore_index=True) # rg3\n",
    "cn_rg_test = pd.concat([cn7lh, cn7rh, rg3lh, rg3rh], ignore_index=True) # cn7 + rg3\n"
   ]
  },
  {
   "cell_type": "code",
   "execution_count": 107,
   "metadata": {},
   "outputs": [
    {
     "name": "stdout",
     "output_type": "stream",
     "text": [
      "CN7 양품:  (3946, 28) CN7 불량품: (28, 28)\n",
      "RG3 양품:  (1224, 28) RG3 불량품: (32, 28)\n",
      "CN+RG 양품:  (5170, 28) CN+RG 불량품: (60, 28)\n"
     ]
    }
   ],
   "source": [
    "#각 테스트셋 양품 불량품 갯수확인 \n",
    "cn_pdf = cn7_test.loc[cn7_test['PassOrFail'] == 0].copy()\n",
    "cn_ndf = cn7_test.loc[cn7_test['PassOrFail'] == 1].copy()\n",
    "\n",
    "rg_pdf = rg3_test.loc[rg3_test['PassOrFail'] == 0].copy()\n",
    "rg_ndf = rg3_test.loc[rg3_test['PassOrFail'] == 1].copy()\n",
    "\n",
    "cn_rg_pdf = cn_rg_test.loc[cn_rg_test['PassOrFail'] == 0].copy()\n",
    "cn_rg_ndf = cn_rg_test.loc[cn_rg_test['PassOrFail'] == 1].copy()\n",
    "\n",
    "print(\"CN7 양품: \", cn_pdf.shape, \"CN7 불량품:\" , cn_ndf.shape)\n",
    "print(\"RG3 양품: \", rg_pdf.shape, \"RG3 불량품:\" , rg_ndf.shape)\n",
    "print(\"CN+RG 양품: \", cn_rg_pdf.shape, \"CN+RG 불량품:\" , cn_rg_ndf.shape)"
   ]
  },
  {
   "cell_type": "code",
   "execution_count": 108,
   "metadata": {},
   "outputs": [],
   "source": [
    "# 테스트셋 feature 제거\n",
    "cn_pdf.drop(['PassOrFail', 'Reason', 'Switch_Over_Position', 'Barrel_Temperature_7'], axis=1, inplace=True) #col = 24\n",
    "cn_ndf.drop(['PassOrFail', 'Reason', 'Switch_Over_Position', 'Barrel_Temperature_7'], axis=1, inplace=True) #col = 24\n",
    "\n",
    "rg_pdf.drop(['PassOrFail', 'Reason', 'Plasticizing_Position'], axis=1, inplace=True) #col = 25\n",
    "rg_ndf.drop(['PassOrFail', 'Reason', 'Plasticizing_Position'], axis=1, inplace=True) #col = 25\n",
    "\n",
    "cn_rg_pdf.drop(['PassOrFail', 'Reason'], axis=1, inplace=True) #col = 26\n",
    "cn_rg_ndf.drop(['PassOrFail', 'Reason'], axis=1, inplace=True) #col = 26\n",
    "\n",
    "\n"
   ]
  },
  {
   "cell_type": "code",
   "execution_count": 109,
   "metadata": {},
   "outputs": [
    {
     "name": "stdout",
     "output_type": "stream",
     "text": [
      "######### 테스트셋 ###########\n",
      "CN7 양품:  (3946, 24) CN7 불량품: (28, 24)\n",
      "RG3 양품:  (1224, 25) RG3 불량품: (32, 25)\n",
      "CN+RG 양품:  (5170, 26) CN+RG 불량품: (60, 26)\n",
      "\n",
      "######### 트레이닝셋 ###########\n",
      "CN7:  (35239, 24)\n",
      "RG3:  (35941, 25)\n",
      "CN7+RG3:  (71180, 26)\n"
     ]
    }
   ],
   "source": [
    "# shape 확인\n",
    "print(\"######### 테스트셋 ###########\")\n",
    "print(\"CN7 양품: \", cn_pdf.shape, \"CN7 불량품:\" , cn_ndf.shape)\n",
    "print(\"RG3 양품: \", rg_pdf.shape, \"RG3 불량품:\" , rg_ndf.shape)\n",
    "print(\"CN+RG 양품: \", cn_rg_pdf.shape, \"CN+RG 불량품:\" , cn_rg_ndf.shape)\n",
    "print(\"\\n######### 트레이닝셋 ###########\")\n",
    "print(\"CN7: \", cn7_train.shape)\n",
    "print(\"RG3: \", rg3_train.shape)\n",
    "print(\"CN7+RG3: \", cn_rg_train.shape)\n"
   ]
  },
  {
   "cell_type": "code",
   "execution_count": 110,
   "metadata": {},
   "outputs": [],
   "source": [
    "# 데이터셋 정규화\n",
    "scaler = MinMaxScaler()\n",
    "cn7_X = scaler.fit_transform(cn7_train) # 언라벨데이터\n",
    "cn7_Y = scaler.transform(cn_pdf) # 라벨\n",
    "cn7_N = scaler.fit_transform(cn_ndf) # 라벨\n",
    "\n",
    "rg3_X = scaler.fit_transform(rg3_train) # 언라벨\n",
    "rg3_Y = scaler.transform(rg_pdf) # 라벨\n",
    "rg3_N = scaler.fit_transform(rg_ndf) # 라벨\n",
    "\n",
    "cnrg_X = scaler.fit_transform(cn_rg_train) # 언라벨\n",
    "cnrg_Y = scaler.transform(cn_rg_pdf) # 라벨\n",
    "cnrg_N = scaler.transform(cn_rg_ndf) # 라벨\n",
    "\n",
    "# sol2) CN7 정규화를 먼저 해버리고 트레이닝 테스트셋 나누기\n",
    "# cn7_df = pd.concat([cn7_train, cn_pdf, cn_ndf], ignore_index=True)\n",
    "# norm_cn7 = scaler.fit_transform(cn7_df)\n",
    "# cn7_X = norm_cn7[:35239]\n",
    "# cn7_Y = norm_cn7[35239:39185]\n",
    "# cn7_N = norm_cn7[39185:]\n",
    "\n"
   ]
  },
  {
   "cell_type": "code",
   "execution_count": 111,
   "metadata": {},
   "outputs": [],
   "source": [
    "# 모델링\n",
    "dropout_encoder = Sequential([\n",
    "    Dropout(0.3),\n",
    "    Dense(15, activation='relu'),\n",
    "    Dense(5, activation='relu')\n",
    "])\n",
    "\n",
    "dropout_decoder = Sequential([\n",
    "    Dense(15, activation='relu', input_shape=[5]),\n",
    "    Dense(cn7_X.shape[1], activation='relu')\n",
    "])\n",
    "\n",
    "dropout_AE = Sequential([dropout_encoder, dropout_decoder])"
   ]
  },
  {
   "cell_type": "code",
   "execution_count": 112,
   "metadata": {},
   "outputs": [
    {
     "name": "stdout",
     "output_type": "stream",
     "text": [
      "Epoch 1/100\n",
      "940/940 [==============================] - 1s 903us/step - loss: 0.0865 - accuracy: 0.3479 - val_loss: 0.0844 - val_accuracy: 0.9729\n",
      "Epoch 2/100\n",
      "940/940 [==============================] - 1s 922us/step - loss: 0.0828 - accuracy: 0.3568 - val_loss: 0.0823 - val_accuracy: 0.9729\n",
      "Epoch 3/100\n",
      "940/940 [==============================] - 1s 978us/step - loss: 0.0824 - accuracy: 0.3588 - val_loss: 0.0818 - val_accuracy: 0.9729\n",
      "Epoch 4/100\n",
      "940/940 [==============================] - 1s 985us/step - loss: 0.0822 - accuracy: 0.3644 - val_loss: 0.0819 - val_accuracy: 0.9729\n",
      "Epoch 5/100\n",
      "940/940 [==============================] - 1s 967us/step - loss: 0.0821 - accuracy: 0.3616 - val_loss: 0.0817 - val_accuracy: 0.3253\n",
      "Epoch 6/100\n",
      "940/940 [==============================] - 1s 968us/step - loss: 0.0820 - accuracy: 0.3654 - val_loss: 0.0815 - val_accuracy: 0.9729\n",
      "Epoch 7/100\n",
      "940/940 [==============================] - 1s 921us/step - loss: 0.0818 - accuracy: 0.3514 - val_loss: 0.0816 - val_accuracy: 0.9729\n",
      "Epoch 8/100\n",
      "940/940 [==============================] - 1s 1ms/step - loss: 0.0818 - accuracy: 0.3571 - val_loss: 0.0815 - val_accuracy: 0.9729\n",
      "Epoch 9/100\n",
      "940/940 [==============================] - 1s 908us/step - loss: 0.0817 - accuracy: 0.3436 - val_loss: 0.0814 - val_accuracy: 0.9729\n",
      "Epoch 10/100\n",
      "940/940 [==============================] - 1s 840us/step - loss: 0.0822 - accuracy: 0.3558 - val_loss: 0.0837 - val_accuracy: 0.3253\n",
      "Epoch 11/100\n",
      "940/940 [==============================] - 1s 904us/step - loss: 0.0823 - accuracy: 0.3571 - val_loss: 0.0845 - val_accuracy: 0.9729\n",
      "Epoch 12/100\n",
      "940/940 [==============================] - 1s 931us/step - loss: 0.0733 - accuracy: 0.3495 - val_loss: 0.0637 - val_accuracy: 0.3253\n",
      "Epoch 13/100\n",
      "940/940 [==============================] - 1s 959us/step - loss: 0.0644 - accuracy: 0.3648 - val_loss: 0.0640 - val_accuracy: 0.9729\n",
      "Epoch 14/100\n",
      "940/940 [==============================] - 1s 988us/step - loss: 0.0644 - accuracy: 0.3498 - val_loss: 0.0641 - val_accuracy: 0.9729\n",
      "Epoch 15/100\n",
      "940/940 [==============================] - 1s 975us/step - loss: 0.0645 - accuracy: 0.3531 - val_loss: 0.0637 - val_accuracy: 0.3276\n",
      "Epoch 16/100\n",
      "940/940 [==============================] - 1s 827us/step - loss: 0.0528 - accuracy: 0.3147 - val_loss: 0.0361 - val_accuracy: 0.9729\n",
      "Epoch 17/100\n",
      "940/940 [==============================] - 1s 716us/step - loss: 0.0470 - accuracy: 0.3555 - val_loss: 0.0363 - val_accuracy: 0.3253\n",
      "Epoch 18/100\n",
      "940/940 [==============================] - 1s 717us/step - loss: 0.0470 - accuracy: 0.3521 - val_loss: 0.0361 - val_accuracy: 0.9729\n",
      "Epoch 19/100\n",
      "940/940 [==============================] - 1s 717us/step - loss: 0.0470 - accuracy: 0.3572 - val_loss: 0.0357 - val_accuracy: 0.9729\n",
      "Epoch 20/100\n",
      "940/940 [==============================] - 1s 709us/step - loss: 0.0468 - accuracy: 0.3501 - val_loss: 0.0357 - val_accuracy: 0.3253\n",
      "Epoch 21/100\n",
      "940/940 [==============================] - 1s 715us/step - loss: 0.0386 - accuracy: 0.3485 - val_loss: 0.0133 - val_accuracy: 0.9729\n",
      "Epoch 22/100\n",
      "940/940 [==============================] - 1s 708us/step - loss: 0.0237 - accuracy: 0.3404 - val_loss: 0.0129 - val_accuracy: 0.9729\n",
      "Epoch 23/100\n",
      "940/940 [==============================] - 1s 713us/step - loss: 0.0237 - accuracy: 0.3389 - val_loss: 0.0123 - val_accuracy: 0.9729\n",
      "Epoch 24/100\n",
      "940/940 [==============================] - 1s 724us/step - loss: 0.0238 - accuracy: 0.3400 - val_loss: 0.0130 - val_accuracy: 0.9729\n",
      "Epoch 25/100\n",
      "940/940 [==============================] - 1s 716us/step - loss: 0.0238 - accuracy: 0.3435 - val_loss: 0.0133 - val_accuracy: 0.9729\n",
      "Epoch 26/100\n",
      "940/940 [==============================] - 1s 721us/step - loss: 0.0238 - accuracy: 0.3334 - val_loss: 0.0124 - val_accuracy: 0.9729\n",
      "Epoch 27/100\n",
      "940/940 [==============================] - 1s 862us/step - loss: 0.0237 - accuracy: 0.3392 - val_loss: 0.0124 - val_accuracy: 0.9729\n",
      "Epoch 28/100\n",
      "940/940 [==============================] - 1s 845us/step - loss: 0.0237 - accuracy: 0.3350 - val_loss: 0.0129 - val_accuracy: 0.9729\n",
      "Epoch 29/100\n",
      "940/940 [==============================] - 1s 898us/step - loss: 0.0237 - accuracy: 0.3429 - val_loss: 0.0127 - val_accuracy: 0.9729\n",
      "Epoch 30/100\n",
      "940/940 [==============================] - 1s 832us/step - loss: 0.0237 - accuracy: 0.3416 - val_loss: 0.0122 - val_accuracy: 0.9729\n",
      "Epoch 31/100\n",
      "940/940 [==============================] - 1s 887us/step - loss: 0.0237 - accuracy: 0.3294 - val_loss: 0.0125 - val_accuracy: 0.3253\n",
      "Epoch 32/100\n",
      "940/940 [==============================] - 1s 842us/step - loss: 0.0237 - accuracy: 0.3373 - val_loss: 0.0130 - val_accuracy: 0.9729\n",
      "Epoch 33/100\n",
      "940/940 [==============================] - 1s 929us/step - loss: 0.0237 - accuracy: 0.3347 - val_loss: 0.0129 - val_accuracy: 0.3253\n",
      "Epoch 34/100\n",
      "940/940 [==============================] - 1s 905us/step - loss: 0.0238 - accuracy: 0.3382 - val_loss: 0.0121 - val_accuracy: 0.3253\n",
      "Epoch 35/100\n",
      "940/940 [==============================] - 1s 905us/step - loss: 0.0237 - accuracy: 0.3427 - val_loss: 0.0124 - val_accuracy: 0.9729\n",
      "Epoch 36/100\n",
      "940/940 [==============================] - 1s 908us/step - loss: 0.0239 - accuracy: 0.3403 - val_loss: 0.0136 - val_accuracy: 0.9729\n",
      "Epoch 37/100\n",
      "940/940 [==============================] - 1s 924us/step - loss: 0.0238 - accuracy: 0.3428 - val_loss: 0.0127 - val_accuracy: 0.3253\n",
      "Epoch 38/100\n",
      "940/940 [==============================] - 1s 1ms/step - loss: 0.0239 - accuracy: 0.3548 - val_loss: 0.0128 - val_accuracy: 0.9729\n",
      "Epoch 39/100\n",
      "940/940 [==============================] - 1s 911us/step - loss: 0.0237 - accuracy: 0.3428 - val_loss: 0.0126 - val_accuracy: 0.9729\n",
      "Epoch 40/100\n",
      "940/940 [==============================] - 1s 808us/step - loss: 0.0237 - accuracy: 0.3370 - val_loss: 0.0126 - val_accuracy: 0.9729\n",
      "Epoch 41/100\n",
      "940/940 [==============================] - 1s 977us/step - loss: 0.0237 - accuracy: 0.3459 - val_loss: 0.0126 - val_accuracy: 0.9729\n",
      "Epoch 42/100\n",
      "940/940 [==============================] - 1s 1ms/step - loss: 0.0239 - accuracy: 0.3430 - val_loss: 0.0125 - val_accuracy: 0.3506\n",
      "Epoch 43/100\n",
      "940/940 [==============================] - 1s 981us/step - loss: 0.0240 - accuracy: 0.3333 - val_loss: 0.0128 - val_accuracy: 0.9729\n",
      "Epoch 44/100\n",
      "940/940 [==============================] - 1s 916us/step - loss: 0.0239 - accuracy: 0.3502 - val_loss: 0.0126 - val_accuracy: 0.9729\n",
      "Epoch 45/100\n",
      "940/940 [==============================] - 1s 947us/step - loss: 0.0238 - accuracy: 0.3416 - val_loss: 0.0135 - val_accuracy: 0.9729\n",
      "Epoch 46/100\n",
      "940/940 [==============================] - 1s 903us/step - loss: 0.0236 - accuracy: 0.3366 - val_loss: 0.0130 - val_accuracy: 0.9655\n",
      "Epoch 47/100\n",
      "940/940 [==============================] - 1s 1ms/step - loss: 0.0237 - accuracy: 0.3397 - val_loss: 0.0124 - val_accuracy: 0.3506\n",
      "Epoch 48/100\n",
      "940/940 [==============================] - 1s 897us/step - loss: 0.0237 - accuracy: 0.3475 - val_loss: 0.0128 - val_accuracy: 0.9729\n",
      "Epoch 49/100\n",
      "940/940 [==============================] - 1s 946us/step - loss: 0.0237 - accuracy: 0.3521 - val_loss: 0.0134 - val_accuracy: 0.9729\n",
      "Epoch 50/100\n",
      "940/940 [==============================] - 1s 864us/step - loss: 0.0237 - accuracy: 0.3440 - val_loss: 0.0132 - val_accuracy: 0.9729\n",
      "Epoch 51/100\n",
      "940/940 [==============================] - 1s 861us/step - loss: 0.0237 - accuracy: 0.3392 - val_loss: 0.0127 - val_accuracy: 0.9729\n",
      "Epoch 52/100\n",
      "940/940 [==============================] - 1s 962us/step - loss: 0.0237 - accuracy: 0.3293 - val_loss: 0.0133 - val_accuracy: 0.9729\n",
      "Epoch 53/100\n",
      "940/940 [==============================] - 1s 925us/step - loss: 0.0237 - accuracy: 0.3411 - val_loss: 0.0126 - val_accuracy: 0.3253\n",
      "Epoch 54/100\n",
      "940/940 [==============================] - 1s 872us/step - loss: 0.0238 - accuracy: 0.3299 - val_loss: 0.0133 - val_accuracy: 0.9729\n",
      "Epoch 55/100\n",
      "940/940 [==============================] - 1s 901us/step - loss: 0.0238 - accuracy: 0.3378 - val_loss: 0.0123 - val_accuracy: 0.9729\n",
      "Epoch 56/100\n",
      "940/940 [==============================] - 1s 889us/step - loss: 0.0238 - accuracy: 0.3368 - val_loss: 0.0125 - val_accuracy: 0.9729\n",
      "Epoch 57/100\n",
      "940/940 [==============================] - 1s 925us/step - loss: 0.0237 - accuracy: 0.3481 - val_loss: 0.0127 - val_accuracy: 0.9729\n",
      "Epoch 58/100\n",
      "940/940 [==============================] - 1s 908us/step - loss: 0.0237 - accuracy: 0.3538 - val_loss: 0.0128 - val_accuracy: 0.9729\n",
      "Epoch 59/100\n",
      "940/940 [==============================] - 1s 889us/step - loss: 0.0237 - accuracy: 0.3518 - val_loss: 0.0126 - val_accuracy: 0.9729\n",
      "Epoch 60/100\n",
      "940/940 [==============================] - 1s 866us/step - loss: 0.0236 - accuracy: 0.3445 - val_loss: 0.0127 - val_accuracy: 0.9729\n",
      "Epoch 61/100\n",
      "940/940 [==============================] - 1s 943us/step - loss: 0.0238 - accuracy: 0.3334 - val_loss: 0.0126 - val_accuracy: 0.3253\n",
      "Epoch 62/100\n",
      "940/940 [==============================] - 1s 886us/step - loss: 0.0239 - accuracy: 0.3284 - val_loss: 0.0122 - val_accuracy: 0.9729\n",
      "Epoch 63/100\n",
      "940/940 [==============================] - 1s 886us/step - loss: 0.0239 - accuracy: 0.3429 - val_loss: 0.0125 - val_accuracy: 0.9729\n",
      "Epoch 64/100\n",
      "940/940 [==============================] - 1s 864us/step - loss: 0.0238 - accuracy: 0.3621 - val_loss: 0.0127 - val_accuracy: 0.9729\n",
      "Epoch 65/100\n",
      "940/940 [==============================] - 1s 870us/step - loss: 0.0237 - accuracy: 0.3586 - val_loss: 0.0125 - val_accuracy: 0.3253\n",
      "Epoch 66/100\n",
      "940/940 [==============================] - 1s 866us/step - loss: 0.0238 - accuracy: 0.3508 - val_loss: 0.0121 - val_accuracy: 0.9729\n",
      "Epoch 67/100\n",
      "940/940 [==============================] - 1s 862us/step - loss: 0.0238 - accuracy: 0.3416 - val_loss: 0.0124 - val_accuracy: 0.9729\n",
      "Epoch 68/100\n",
      "940/940 [==============================] - 1s 873us/step - loss: 0.0237 - accuracy: 0.3427 - val_loss: 0.0125 - val_accuracy: 0.9729\n",
      "Epoch 69/100\n",
      "940/940 [==============================] - 1s 992us/step - loss: 0.0239 - accuracy: 0.3360 - val_loss: 0.0127 - val_accuracy: 0.3253\n",
      "Epoch 70/100\n",
      "940/940 [==============================] - 1s 902us/step - loss: 0.0240 - accuracy: 0.3442 - val_loss: 0.0123 - val_accuracy: 0.3253\n",
      "Epoch 71/100\n",
      "940/940 [==============================] - 1s 789us/step - loss: 0.0239 - accuracy: 0.3506 - val_loss: 0.0127 - val_accuracy: 0.3253\n",
      "Epoch 72/100\n",
      "940/940 [==============================] - 1s 953us/step - loss: 0.0238 - accuracy: 0.3580 - val_loss: 0.0127 - val_accuracy: 0.3253\n",
      "Epoch 73/100\n",
      "940/940 [==============================] - 1s 864us/step - loss: 0.0238 - accuracy: 0.3527 - val_loss: 0.0125 - val_accuracy: 0.9729\n",
      "Epoch 74/100\n",
      "940/940 [==============================] - 1s 774us/step - loss: 0.0238 - accuracy: 0.3585 - val_loss: 0.0121 - val_accuracy: 0.9729\n",
      "Epoch 75/100\n",
      "940/940 [==============================] - 1s 776us/step - loss: 0.0241 - accuracy: 0.3541 - val_loss: 0.0126 - val_accuracy: 0.3253\n",
      "Epoch 76/100\n",
      "940/940 [==============================] - 1s 779us/step - loss: 0.0238 - accuracy: 0.3599 - val_loss: 0.0126 - val_accuracy: 0.9729\n",
      "Epoch 77/100\n",
      "940/940 [==============================] - 1s 824us/step - loss: 0.0238 - accuracy: 0.3437 - val_loss: 0.0126 - val_accuracy: 0.9729\n",
      "Epoch 78/100\n",
      "940/940 [==============================] - 1s 793us/step - loss: 0.0239 - accuracy: 0.3472 - val_loss: 0.0123 - val_accuracy: 0.9729\n",
      "Epoch 79/100\n",
      "940/940 [==============================] - 1s 793us/step - loss: 0.0237 - accuracy: 0.3535 - val_loss: 0.0129 - val_accuracy: 0.3253\n",
      "Epoch 80/100\n",
      "940/940 [==============================] - 1s 803us/step - loss: 0.0241 - accuracy: 0.3369 - val_loss: 0.0124 - val_accuracy: 0.3253\n",
      "Epoch 81/100\n",
      "940/940 [==============================] - 1s 779us/step - loss: 0.0239 - accuracy: 0.3662 - val_loss: 0.0123 - val_accuracy: 0.9729\n",
      "Epoch 82/100\n",
      "940/940 [==============================] - 1s 776us/step - loss: 0.0238 - accuracy: 0.3507 - val_loss: 0.0128 - val_accuracy: 0.3253\n",
      "Epoch 83/100\n",
      "940/940 [==============================] - 1s 785us/step - loss: 0.0238 - accuracy: 0.3474 - val_loss: 0.0127 - val_accuracy: 0.3506\n",
      "Epoch 84/100\n",
      "940/940 [==============================] - 1s 838us/step - loss: 0.0239 - accuracy: 0.3553 - val_loss: 0.0126 - val_accuracy: 0.3253\n",
      "Epoch 85/100\n",
      "940/940 [==============================] - 1s 842us/step - loss: 0.0239 - accuracy: 0.3444 - val_loss: 0.0127 - val_accuracy: 0.9729\n",
      "Epoch 86/100\n",
      "940/940 [==============================] - 1s 975us/step - loss: 0.0239 - accuracy: 0.3565 - val_loss: 0.0129 - val_accuracy: 0.9729\n",
      "Epoch 87/100\n",
      "940/940 [==============================] - 1s 981us/step - loss: 0.0239 - accuracy: 0.3720 - val_loss: 0.0127 - val_accuracy: 0.9729\n",
      "Epoch 88/100\n",
      "940/940 [==============================] - 1s 863us/step - loss: 0.0238 - accuracy: 0.3538 - val_loss: 0.0123 - val_accuracy: 0.9729\n",
      "Epoch 89/100\n",
      "940/940 [==============================] - 1s 832us/step - loss: 0.0238 - accuracy: 0.3527 - val_loss: 0.0126 - val_accuracy: 0.9729\n",
      "Epoch 90/100\n",
      "940/940 [==============================] - 1s 825us/step - loss: 0.0238 - accuracy: 0.3583 - val_loss: 0.0127 - val_accuracy: 0.9729\n",
      "Epoch 91/100\n",
      "940/940 [==============================] - 1s 827us/step - loss: 0.0237 - accuracy: 0.3611 - val_loss: 0.0129 - val_accuracy: 0.3506\n",
      "Epoch 92/100\n",
      "940/940 [==============================] - 1s 830us/step - loss: 0.0238 - accuracy: 0.3685 - val_loss: 0.0125 - val_accuracy: 0.9729\n",
      "Epoch 93/100\n",
      "940/940 [==============================] - 1s 874us/step - loss: 0.0238 - accuracy: 0.3547 - val_loss: 0.0126 - val_accuracy: 0.9729\n",
      "Epoch 94/100\n",
      "940/940 [==============================] - 1s 826us/step - loss: 0.0239 - accuracy: 0.3558 - val_loss: 0.0128 - val_accuracy: 0.9729\n",
      "Epoch 95/100\n",
      "940/940 [==============================] - 1s 813us/step - loss: 0.0240 - accuracy: 0.3558 - val_loss: 0.0122 - val_accuracy: 0.9729\n",
      "Epoch 96/100\n",
      "940/940 [==============================] - 1s 840us/step - loss: 0.0239 - accuracy: 0.3636 - val_loss: 0.0121 - val_accuracy: 0.9729\n",
      "Epoch 97/100\n",
      "940/940 [==============================] - 1s 808us/step - loss: 0.0238 - accuracy: 0.3544 - val_loss: 0.0126 - val_accuracy: 0.3253\n",
      "Epoch 98/100\n",
      "940/940 [==============================] - 1s 847us/step - loss: 0.0241 - accuracy: 0.3559 - val_loss: 0.0129 - val_accuracy: 0.3253\n",
      "Epoch 99/100\n",
      "940/940 [==============================] - 1s 907us/step - loss: 0.0239 - accuracy: 0.3650 - val_loss: 0.0130 - val_accuracy: 0.9729\n",
      "Epoch 100/100\n",
      "940/940 [==============================] - 1s 810us/step - loss: 0.0238 - accuracy: 0.3460 - val_loss: 0.0133 - val_accuracy: 0.9729\n"
     ]
    }
   ],
   "source": [
    "dropout_AE.compile(loss='mse', optimizer=Adam(lr=0.01), metrics=['accuracy'])\n",
    "history = dropout_AE.fit(cn7_X, cn7_X, batch_size=30, epochs=100, validation_split=0.2)\n",
    "callbacks = [EarlyStopping(monitor='val_loss', patience=7, mode='min')]"
   ]
  },
  {
   "cell_type": "code",
   "execution_count": 113,
   "metadata": {},
   "outputs": [
    {
     "data": {
      "image/png": "[encoded data removed]",
      "text/plain": [
       "<Figure size 432x288 with 1 Axes>"
      ]
     },
     "metadata": {
      "needs_background": "light"
     },
     "output_type": "display_data"
    }
   ],
   "source": [
    "# dropout_AE.save('saved_model.pb')\n",
    "plt.plot(history.history['loss'], label='Training Loss')\n",
    "plt.plot(history.history['val_loss'], label='Validation Loss')\n",
    "plt.legend()\n",
    "plt.show()"
   ]
  },
  {
   "cell_type": "code",
   "execution_count": 114,
   "metadata": {},
   "outputs": [
    {
     "data": {
      "image/png": "[encoded data removed]",
      "text/plain": [
       "<Figure size 432x288 with 1 Axes>"
      ]
     },
     "metadata": {
      "needs_background": "light"
     },
     "output_type": "display_data"
    }
   ],
   "source": [
    "plt.plot(history.history['accuracy'], label='Training Acc')\n",
    "plt.plot(history.history['val_accuracy'], label='Validation Acc')\n",
    "plt.legend()\n",
    "plt.show()    "
   ]
  },
  {
   "cell_type": "code",
   "execution_count": 115,
   "metadata": {},
   "outputs": [
    {
     "name": "stdout",
     "output_type": "stream",
     "text": [
      "복원 오류 임계치:  0.09380687052688988\n"
     ]
    }
   ],
   "source": [
    "cn7_train_pred = dropout_AE.predict(cn7_Y)\n",
    "cn7_train_loss = np.mean(np.square(cn7_train_pred - cn7_Y), axis=1)\n",
    "\n",
    "threshold = np.mean(cn7_train_loss) + 5 * np.std(cn7_train_loss)\n",
    "\n",
    "print(\"복원 오류 임계치: \", threshold)"
   ]
  },
  {
   "cell_type": "code",
   "execution_count": 116,
   "metadata": {},
   "outputs": [
    {
     "data": {
      "image/png": "[encoded data removed]",
      "text/plain": [
       "<Figure size 432x288 with 1 Axes>"
      ]
     },
     "metadata": {
      "needs_background": "light"
     },
     "output_type": "display_data"
    },
    {
     "name": "stdout",
     "output_type": "stream",
     "text": [
      "  불량 개수:  18\n"
     ]
    }
   ],
   "source": [
    "cn7_predict_Y = dropout_AE.predict(cn7_Y)\n",
    "cn7_test_Y_mse = np.mean(np.square(cn7_predict_Y - cn7_Y), axis=1)\n",
    "\n",
    "plt.hist(cn7_test_Y_mse, bins=50)\n",
    "plt.xlabel(\"test MSE loss\")\n",
    "plt.ylabel(\"No of samples\")\n",
    "plt.show()\n",
    "\n",
    "cn7_test_Y_anomalies = cn7_test_Y_mse > threshold\n",
    "print(\"  불량 개수: \", np.sum(cn7_test_Y_anomalies))"
   ]
  },
  {
   "cell_type": "code",
   "execution_count": 117,
   "metadata": {},
   "outputs": [
    {
     "data": {
      "image/png": "[encoded data removed]",
      "text/plain": [
       "<Figure size 432x288 with 1 Axes>"
      ]
     },
     "metadata": {
      "needs_background": "light"
     },
     "output_type": "display_data"
    },
    {
     "name": "stdout",
     "output_type": "stream",
     "text": [
      "  불량 개수:  28\n"
     ]
    }
   ],
   "source": [
    "cn7_predict_N = dropout_AE.predict(cn7_N)\n",
    "cn7_test_N_mse = np.mean(np.square(cn7_predict_N - cn7_N), axis=1)\n",
    "\n",
    "plt.hist(cn7_test_N_mse, bins=50)\n",
    "plt.xlabel(\"test MSE loss\")\n",
    "plt.ylabel(\"No of samples\")\n",
    "plt.show()\n",
    "\n",
    "cn7_test_N_anomalies = cn7_test_N_mse > threshold\n",
    "print(\"  불량 개수: \", np.sum(cn7_test_N_anomalies))"
   ]
  },
  {
   "cell_type": "code",
   "execution_count": 118,
   "metadata": {},
   "outputs": [],
   "source": [
    "cn7_true = np.concatenate([np.zeros(len(cn7_test_Y_anomalies)), np.ones(len(cn7_test_N_anomalies))])"
   ]
  },
  {
   "cell_type": "code",
   "execution_count": 119,
   "metadata": {},
   "outputs": [],
   "source": [
    "cn7_prediction = np.concatenate([cn7_test_Y_anomalies, cn7_test_N_anomalies])"
   ]
  },
  {
   "cell_type": "code",
   "execution_count": 120,
   "metadata": {},
   "outputs": [
    {
     "data": {
      "text/plain": [
       "array([[3928,    0],\n",
       "       [  18,   28]], dtype=int64)"
      ]
     },
     "execution_count": 120,
     "metadata": {},
     "output_type": "execute_result"
    }
   ],
   "source": [
    "from sklearn.metrics import confusion_matrix\n",
    "confusion_matrix(cn7_prediction, cn7_true)"
   ]
  },
  {
   "cell_type": "code",
   "execution_count": 121,
   "metadata": {},
   "outputs": [
    {
     "name": "stdout",
     "output_type": "stream",
     "text": [
      "정확도:  0.9954705586311021\n",
      "정밀도:  0.6086956521739131\n",
      "재현율:  1.0\n",
      "F1:  0.7567567567567568\n"
     ]
    }
   ],
   "source": [
    "from sklearn.metrics import accuracy_score, precision_score, recall_score, f1_score\n",
    "print(\"정확도: \", accuracy_score(cn7_true, cn7_prediction))\n",
    "print(\"정밀도: \", precision_score(cn7_true, cn7_prediction))\n",
    "print(\"재현율: \", recall_score(cn7_true, cn7_prediction))\n",
    "print(\"F1: \", f1_score(cn7_true, cn7_prediction))"
   ]
  },
  {
   "cell_type": "code",
   "execution_count": 122,
   "metadata": {},
   "outputs": [
    {
     "data": {
      "image/png": "[encoded data removed]",
      "text/plain": [
       "<Figure size 432x288 with 1 Axes>"
      ]
     },
     "metadata": {
      "needs_background": "light"
     },
     "output_type": "display_data"
    },
    {
     "name": "stdout",
     "output_type": "stream",
     "text": [
      "불량 개수:  66\n"
     ]
    }
   ],
   "source": [
    "# unlabeled 데이터 predict\n",
    "cn7_predict_Y = dropout_AE.predict(cn7_X)\n",
    "cn7_test_Y_mse = np.mean(np.square(cn7_predict_Y - cn7_X), axis=1)\n",
    "\n",
    "plt.hist(cn7_test_Y_mse, bins=50)\n",
    "plt.xlabel(\"test MSE loss\")\n",
    "plt.ylabel(\"No of samples\")\n",
    "plt.show()\n",
    "\n",
    "cn7_test_Y_anomalies = cn7_test_Y_mse > threshold\n",
    "print(\"불량 개수: \", np.sum(cn7_test_Y_anomalies))"
   ]
  }
 ],
 "metadata": {
  "interpreter": {
   "hash": "243b884e0976e2e4e252145db15e7be36abd5c4999a105e397d130f5f765e465"
  },
  "kernelspec": {
   "display_name": "Python 3.8.11 64-bit ('base': conda)",
   "language": "python",
   "name": "python3"
  },
  "language_info": {
   "codemirror_mode": {
    "name": "ipython",
    "version": 3
   },
   "file_extension": ".py",
   "mimetype": "text/x-python",
   "name": "python",
   "nbconvert_exporter": "python",
   "pygments_lexer": "ipython3",
   "version": "3.8.11"
  },
  "orig_nbformat": 4
 },
 "nbformat": 4,
 "nbformat_minor": 2
}
